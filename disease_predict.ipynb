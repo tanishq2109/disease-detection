{
 "cells": [
  {
   "cell_type": "code",
   "execution_count": 2,
   "metadata": {
    "id": "LVQqvsGhhItL"
   },
   "outputs": [],
   "source": [
    "gen_anx_dis=''' Free-floating anxiety, nervousness, trembling, muscular tension, sweating, light headedness, \n",
    "palpitation, dizziness, epigastric discomfort, fear of a relative or oneself dying or becoming ill or having an accident. \n",
    "Apprehension/worries about future misfortunes, feeling “on edge,” difficulty in concentrating. \n",
    "Restless fidgeting, tension headaches, inability to relax, tachycardia, dry mouth.'''\n",
    "\n",
    "panic_dis='''Sudden onset of palpitations, chest pain, choking sensation, dizziness and feeling of unreality.\n",
    " Depersonalisation go materialisation, Fear of dying, losing control, or going mad.\n",
    " A crescendo of fear and autonomic symptoms which result in an exit, usually hurried, from where ever he or she may be. \n",
    "Fear of having another attack.'''\n",
    "\n",
    "phobic_dis='''Exactly is invoked by certain well-defined situations or objects which are not currently dangerous, the objects are avoided or endure with dread, palpitations, feelings of faint, fear of dying, losing control , going mad'''\n",
    "\n",
    "agoraphobia=''' Fear of open spaces, crowds and close spaces, fear of leaving home, fear of entering shops, crowds, and public places or of travelling alone and trains buses or planes, person can become housebound, terrified by the thought of collapsing or being left helpless in public.\n",
    "The lack of an immediately available exit is one of the key features of agoraphobia.'''\n",
    "\n",
    "social_phobia='''A fear of scrutiny by other people in comparatively small groups as opposed to crowds leading to avoidance of social situations, fear of eating in public, public speaking or encounter with the opposite sex. \n",
    "Fear of vomiting in public may be important direct I do I can confrontation will be particularly stressful in some cultures, associated with low self-esteem and fear of criticism.\n",
    " My present is blushing, Henry Moore, nausea or urgency of micturition'''\n",
    "\n",
    "simple_phobia='''Fear of highly specific situations such as proximity to particular animals, heights, thunder, darkness, flying, close spaces, urinating a defaecating in public toilets, eating certain foods, dentistry, the sight of blood or injury, and the fear of exposure to specific diseases'''\n",
    "\n",
    "obs_comp_dis='''Absurd, anxiety provoking, irresistible thoughts, images, impulses coming to the mind, the sufferer often tries unsuccessfully to the supress them. \n",
    "Compulsive acts or rituals that are repeated again and again. \n",
    "Compulsive washing hands, checking, touching, doing mental counting, songs images memories get stuck in the mind, being very orderly, punctual, guilt feeling related to not doing things right'''\n",
    "\n",
    "depressive_dis='''Depressed/low mood, loss of interest and enjoyment, reduced energy leading to increased fatigue and diminished activity.\n",
    "Mark tightness of the only slight effort, reduced concentration and attention, reduce self-esteem and self-confidence, ideas of guilt and unworthiness, bleak and pessimistic views of the future, ideas or acts of self-harm or suicide, disturbed sleep, diminished appetite, agitation, irritability, excessive consumption of alcohol, histrionic behaviour, loss of interest or pleasure in activities that are normally enjoyable, lack of emotional reactivity normally pleasurable surroundings and events, waking in the morning two hours or more before the usual time, depression worse in the morning psychomotor retardation loss of appetite, weight loss, loss of sexual desire/libido\n",
    "Self-harm by way of taking over dosage, cutting oneself, scratching oneself, hitting head against the wall, wanting to jump in front of traffic, hang oneself, jumping off a bridge, driving the car against the wall, aggressive outbursts irritability and get episodes.\n",
    "'''"
   ]
  },
  {
   "cell_type": "code",
   "execution_count": 3,
   "metadata": {
    "colab": {
     "base_uri": "https://localhost:8080/"
    },
    "id": "ZruLtuDdksqP",
    "outputId": "ba6d7ac3-a239-44c0-81a0-298c4afbac64"
   },
   "outputs": [
    {
     "name": "stderr",
     "output_type": "stream",
     "text": [
      "[nltk_data] Downloading package punkt to C:\\Users\\Tanishq\n",
      "[nltk_data]     Rawat\\AppData\\Roaming\\nltk_data...\n",
      "[nltk_data]   Package punkt is already up-to-date!\n"
     ]
    },
    {
     "data": {
      "text/plain": [
       "True"
      ]
     },
     "execution_count": 3,
     "metadata": {},
     "output_type": "execute_result"
    }
   ],
   "source": [
    "import nltk\n",
    "from nltk.tokenize import word_tokenize\n",
    "from nltk.tokenize import RegexpTokenizer\n",
    "import pandas as pd\n",
    "from nltk.corpus import stopwords\n",
    "\n",
    "nltk.download('punkt')"
   ]
  },
  {
   "cell_type": "code",
   "execution_count": 4,
   "metadata": {
    "id": "8EhPZFiknqNP"
   },
   "outputs": [],
   "source": [
    "diseases=[gen_anx_dis,panic_dis,phobic_dis,agoraphobia,social_phobia,simple_phobia,obs_comp_dis,depressive_dis]"
   ]
  },
  {
   "cell_type": "code",
   "execution_count": 5,
   "metadata": {
    "colab": {
     "base_uri": "https://localhost:8080/",
     "height": 300
    },
    "id": "bLnZ1aevqzN2",
    "outputId": "48f850ad-bf05-4185-c1bb-03c94c39c18c"
   },
   "outputs": [
    {
     "data": {
      "text/html": [
       "<div>\n",
       "<style scoped>\n",
       "    .dataframe tbody tr th:only-of-type {\n",
       "        vertical-align: middle;\n",
       "    }\n",
       "\n",
       "    .dataframe tbody tr th {\n",
       "        vertical-align: top;\n",
       "    }\n",
       "\n",
       "    .dataframe thead th {\n",
       "        text-align: right;\n",
       "    }\n",
       "</style>\n",
       "<table border=\"1\" class=\"dataframe\">\n",
       "  <thead>\n",
       "    <tr style=\"text-align: right;\">\n",
       "      <th></th>\n",
       "      <th>0</th>\n",
       "    </tr>\n",
       "  </thead>\n",
       "  <tbody>\n",
       "    <tr>\n",
       "      <th>0</th>\n",
       "      <td>Free-floating anxiety, nervousness, trembling...</td>\n",
       "    </tr>\n",
       "    <tr>\n",
       "      <th>1</th>\n",
       "      <td>Sudden onset of palpitations, chest pain, chok...</td>\n",
       "    </tr>\n",
       "    <tr>\n",
       "      <th>2</th>\n",
       "      <td>Exactly is invoked by certain well-defined sit...</td>\n",
       "    </tr>\n",
       "    <tr>\n",
       "      <th>3</th>\n",
       "      <td>Fear of open spaces, crowds and close spaces,...</td>\n",
       "    </tr>\n",
       "    <tr>\n",
       "      <th>4</th>\n",
       "      <td>A fear of scrutiny by other people in comparat...</td>\n",
       "    </tr>\n",
       "    <tr>\n",
       "      <th>5</th>\n",
       "      <td>Fear of highly specific situations such as pro...</td>\n",
       "    </tr>\n",
       "    <tr>\n",
       "      <th>6</th>\n",
       "      <td>Absurd, anxiety provoking, irresistible though...</td>\n",
       "    </tr>\n",
       "    <tr>\n",
       "      <th>7</th>\n",
       "      <td>Depressed/low mood, loss of interest and enjoy...</td>\n",
       "    </tr>\n",
       "  </tbody>\n",
       "</table>\n",
       "</div>"
      ],
      "text/plain": [
       "                                                   0\n",
       "0   Free-floating anxiety, nervousness, trembling...\n",
       "1  Sudden onset of palpitations, chest pain, chok...\n",
       "2  Exactly is invoked by certain well-defined sit...\n",
       "3   Fear of open spaces, crowds and close spaces,...\n",
       "4  A fear of scrutiny by other people in comparat...\n",
       "5  Fear of highly specific situations such as pro...\n",
       "6  Absurd, anxiety provoking, irresistible though...\n",
       "7  Depressed/low mood, loss of interest and enjoy..."
      ]
     },
     "execution_count": 5,
     "metadata": {},
     "output_type": "execute_result"
    }
   ],
   "source": [
    "df = pd.DataFrame(diseases)\n",
    "df"
   ]
  },
  {
   "cell_type": "code",
   "execution_count": 6,
   "metadata": {
    "id": "px5lD9IVq7dR"
   },
   "outputs": [],
   "source": [
    "df.columns=['symptoms']"
   ]
  },
  {
   "cell_type": "code",
   "execution_count": 7,
   "metadata": {
    "colab": {
     "base_uri": "https://localhost:8080/",
     "height": 300
    },
    "id": "traiKdffrhEl",
    "outputId": "9cf0c0cf-eb62-42d6-ec5e-3b0bc442724d"
   },
   "outputs": [
    {
     "data": {
      "text/html": [
       "<div>\n",
       "<style scoped>\n",
       "    .dataframe tbody tr th:only-of-type {\n",
       "        vertical-align: middle;\n",
       "    }\n",
       "\n",
       "    .dataframe tbody tr th {\n",
       "        vertical-align: top;\n",
       "    }\n",
       "\n",
       "    .dataframe thead th {\n",
       "        text-align: right;\n",
       "    }\n",
       "</style>\n",
       "<table border=\"1\" class=\"dataframe\">\n",
       "  <thead>\n",
       "    <tr style=\"text-align: right;\">\n",
       "      <th></th>\n",
       "      <th>symptoms</th>\n",
       "    </tr>\n",
       "  </thead>\n",
       "  <tbody>\n",
       "    <tr>\n",
       "      <th>0</th>\n",
       "      <td>Free-floating anxiety, nervousness, trembling...</td>\n",
       "    </tr>\n",
       "    <tr>\n",
       "      <th>1</th>\n",
       "      <td>Sudden onset of palpitations, chest pain, chok...</td>\n",
       "    </tr>\n",
       "    <tr>\n",
       "      <th>2</th>\n",
       "      <td>Exactly is invoked by certain well-defined sit...</td>\n",
       "    </tr>\n",
       "    <tr>\n",
       "      <th>3</th>\n",
       "      <td>Fear of open spaces, crowds and close spaces,...</td>\n",
       "    </tr>\n",
       "    <tr>\n",
       "      <th>4</th>\n",
       "      <td>A fear of scrutiny by other people in comparat...</td>\n",
       "    </tr>\n",
       "    <tr>\n",
       "      <th>5</th>\n",
       "      <td>Fear of highly specific situations such as pro...</td>\n",
       "    </tr>\n",
       "    <tr>\n",
       "      <th>6</th>\n",
       "      <td>Absurd, anxiety provoking, irresistible though...</td>\n",
       "    </tr>\n",
       "    <tr>\n",
       "      <th>7</th>\n",
       "      <td>Depressed/low mood, loss of interest and enjoy...</td>\n",
       "    </tr>\n",
       "  </tbody>\n",
       "</table>\n",
       "</div>"
      ],
      "text/plain": [
       "                                            symptoms\n",
       "0   Free-floating anxiety, nervousness, trembling...\n",
       "1  Sudden onset of palpitations, chest pain, chok...\n",
       "2  Exactly is invoked by certain well-defined sit...\n",
       "3   Fear of open spaces, crowds and close spaces,...\n",
       "4  A fear of scrutiny by other people in comparat...\n",
       "5  Fear of highly specific situations such as pro...\n",
       "6  Absurd, anxiety provoking, irresistible though...\n",
       "7  Depressed/low mood, loss of interest and enjoy..."
      ]
     },
     "execution_count": 7,
     "metadata": {},
     "output_type": "execute_result"
    }
   ],
   "source": [
    "df"
   ]
  },
  {
   "cell_type": "code",
   "execution_count": 8,
   "metadata": {
    "id": "twF5nB1Yrvf5"
   },
   "outputs": [],
   "source": [
    "name_dis=['Generalised Anxiety Disorder','Panic Disorder','Phobic Disorder','Agoraphobia','Social Phobia','Simple phobia','obsessive compulsive Disorder','Depressive Disorder']"
   ]
  },
  {
   "cell_type": "code",
   "execution_count": 9,
   "metadata": {
    "id": "QIfxefZcsNJF"
   },
   "outputs": [],
   "source": [
    "df['Disease']=name_dis"
   ]
  },
  {
   "cell_type": "code",
   "execution_count": 10,
   "metadata": {
    "colab": {
     "base_uri": "https://localhost:8080/",
     "height": 300
    },
    "id": "TVhnXe6ssUMs",
    "outputId": "3f1b88e7-5eb6-46e5-b781-a9f639912895"
   },
   "outputs": [
    {
     "data": {
      "text/html": [
       "<div>\n",
       "<style scoped>\n",
       "    .dataframe tbody tr th:only-of-type {\n",
       "        vertical-align: middle;\n",
       "    }\n",
       "\n",
       "    .dataframe tbody tr th {\n",
       "        vertical-align: top;\n",
       "    }\n",
       "\n",
       "    .dataframe thead th {\n",
       "        text-align: right;\n",
       "    }\n",
       "</style>\n",
       "<table border=\"1\" class=\"dataframe\">\n",
       "  <thead>\n",
       "    <tr style=\"text-align: right;\">\n",
       "      <th></th>\n",
       "      <th>symptoms</th>\n",
       "      <th>Disease</th>\n",
       "    </tr>\n",
       "  </thead>\n",
       "  <tbody>\n",
       "    <tr>\n",
       "      <th>0</th>\n",
       "      <td>Free-floating anxiety, nervousness, trembling...</td>\n",
       "      <td>Generalised Anxiety Disorder</td>\n",
       "    </tr>\n",
       "    <tr>\n",
       "      <th>1</th>\n",
       "      <td>Sudden onset of palpitations, chest pain, chok...</td>\n",
       "      <td>Panic Disorder</td>\n",
       "    </tr>\n",
       "    <tr>\n",
       "      <th>2</th>\n",
       "      <td>Exactly is invoked by certain well-defined sit...</td>\n",
       "      <td>Phobic Disorder</td>\n",
       "    </tr>\n",
       "    <tr>\n",
       "      <th>3</th>\n",
       "      <td>Fear of open spaces, crowds and close spaces,...</td>\n",
       "      <td>Agoraphobia</td>\n",
       "    </tr>\n",
       "    <tr>\n",
       "      <th>4</th>\n",
       "      <td>A fear of scrutiny by other people in comparat...</td>\n",
       "      <td>Social Phobia</td>\n",
       "    </tr>\n",
       "    <tr>\n",
       "      <th>5</th>\n",
       "      <td>Fear of highly specific situations such as pro...</td>\n",
       "      <td>Simple phobia</td>\n",
       "    </tr>\n",
       "    <tr>\n",
       "      <th>6</th>\n",
       "      <td>Absurd, anxiety provoking, irresistible though...</td>\n",
       "      <td>obsessive compulsive Disorder</td>\n",
       "    </tr>\n",
       "    <tr>\n",
       "      <th>7</th>\n",
       "      <td>Depressed/low mood, loss of interest and enjoy...</td>\n",
       "      <td>Depressive Disorder</td>\n",
       "    </tr>\n",
       "  </tbody>\n",
       "</table>\n",
       "</div>"
      ],
      "text/plain": [
       "                                            symptoms  \\\n",
       "0   Free-floating anxiety, nervousness, trembling...   \n",
       "1  Sudden onset of palpitations, chest pain, chok...   \n",
       "2  Exactly is invoked by certain well-defined sit...   \n",
       "3   Fear of open spaces, crowds and close spaces,...   \n",
       "4  A fear of scrutiny by other people in comparat...   \n",
       "5  Fear of highly specific situations such as pro...   \n",
       "6  Absurd, anxiety provoking, irresistible though...   \n",
       "7  Depressed/low mood, loss of interest and enjoy...   \n",
       "\n",
       "                         Disease  \n",
       "0   Generalised Anxiety Disorder  \n",
       "1                 Panic Disorder  \n",
       "2                Phobic Disorder  \n",
       "3                    Agoraphobia  \n",
       "4                  Social Phobia  \n",
       "5                  Simple phobia  \n",
       "6  obsessive compulsive Disorder  \n",
       "7            Depressive Disorder  "
      ]
     },
     "execution_count": 10,
     "metadata": {},
     "output_type": "execute_result"
    }
   ],
   "source": [
    "df"
   ]
  },
  {
   "cell_type": "code",
   "execution_count": 11,
   "metadata": {
    "id": "dfUp-RgTsV2W"
   },
   "outputs": [],
   "source": [
    "from nltk.tokenize import RegexpTokenizer\n",
    "from nltk.tokenize import sent_tokenize, word_tokenize\n",
    "def convert(obj):\n",
    "  return word_tokenize(obj)"
   ]
  },
  {
   "cell_type": "code",
   "execution_count": 12,
   "metadata": {
    "id": "0Ft9pYejt3bX"
   },
   "outputs": [],
   "source": [
    "df['symptoms']=df['symptoms'].apply(convert)"
   ]
  },
  {
   "cell_type": "code",
   "execution_count": 13,
   "metadata": {
    "colab": {
     "base_uri": "https://localhost:8080/",
     "height": 300
    },
    "id": "uzBv1y0Ct_kd",
    "outputId": "3572c9ee-730a-4ed9-d9a1-876fd49214a9"
   },
   "outputs": [
    {
     "data": {
      "text/html": [
       "<div>\n",
       "<style scoped>\n",
       "    .dataframe tbody tr th:only-of-type {\n",
       "        vertical-align: middle;\n",
       "    }\n",
       "\n",
       "    .dataframe tbody tr th {\n",
       "        vertical-align: top;\n",
       "    }\n",
       "\n",
       "    .dataframe thead th {\n",
       "        text-align: right;\n",
       "    }\n",
       "</style>\n",
       "<table border=\"1\" class=\"dataframe\">\n",
       "  <thead>\n",
       "    <tr style=\"text-align: right;\">\n",
       "      <th></th>\n",
       "      <th>symptoms</th>\n",
       "      <th>Disease</th>\n",
       "    </tr>\n",
       "  </thead>\n",
       "  <tbody>\n",
       "    <tr>\n",
       "      <th>0</th>\n",
       "      <td>[Free-floating, anxiety, ,, nervousness, ,, tr...</td>\n",
       "      <td>Generalised Anxiety Disorder</td>\n",
       "    </tr>\n",
       "    <tr>\n",
       "      <th>1</th>\n",
       "      <td>[Sudden, onset, of, palpitations, ,, chest, pa...</td>\n",
       "      <td>Panic Disorder</td>\n",
       "    </tr>\n",
       "    <tr>\n",
       "      <th>2</th>\n",
       "      <td>[Exactly, is, invoked, by, certain, well-defin...</td>\n",
       "      <td>Phobic Disorder</td>\n",
       "    </tr>\n",
       "    <tr>\n",
       "      <th>3</th>\n",
       "      <td>[Fear, of, open, spaces, ,, crowds, and, close...</td>\n",
       "      <td>Agoraphobia</td>\n",
       "    </tr>\n",
       "    <tr>\n",
       "      <th>4</th>\n",
       "      <td>[A, fear, of, scrutiny, by, other, people, in,...</td>\n",
       "      <td>Social Phobia</td>\n",
       "    </tr>\n",
       "    <tr>\n",
       "      <th>5</th>\n",
       "      <td>[Fear, of, highly, specific, situations, such,...</td>\n",
       "      <td>Simple phobia</td>\n",
       "    </tr>\n",
       "    <tr>\n",
       "      <th>6</th>\n",
       "      <td>[Absurd, ,, anxiety, provoking, ,, irresistibl...</td>\n",
       "      <td>obsessive compulsive Disorder</td>\n",
       "    </tr>\n",
       "    <tr>\n",
       "      <th>7</th>\n",
       "      <td>[Depressed/low, mood, ,, loss, of, interest, a...</td>\n",
       "      <td>Depressive Disorder</td>\n",
       "    </tr>\n",
       "  </tbody>\n",
       "</table>\n",
       "</div>"
      ],
      "text/plain": [
       "                                            symptoms  \\\n",
       "0  [Free-floating, anxiety, ,, nervousness, ,, tr...   \n",
       "1  [Sudden, onset, of, palpitations, ,, chest, pa...   \n",
       "2  [Exactly, is, invoked, by, certain, well-defin...   \n",
       "3  [Fear, of, open, spaces, ,, crowds, and, close...   \n",
       "4  [A, fear, of, scrutiny, by, other, people, in,...   \n",
       "5  [Fear, of, highly, specific, situations, such,...   \n",
       "6  [Absurd, ,, anxiety, provoking, ,, irresistibl...   \n",
       "7  [Depressed/low, mood, ,, loss, of, interest, a...   \n",
       "\n",
       "                         Disease  \n",
       "0   Generalised Anxiety Disorder  \n",
       "1                 Panic Disorder  \n",
       "2                Phobic Disorder  \n",
       "3                    Agoraphobia  \n",
       "4                  Social Phobia  \n",
       "5                  Simple phobia  \n",
       "6  obsessive compulsive Disorder  \n",
       "7            Depressive Disorder  "
      ]
     },
     "execution_count": 13,
     "metadata": {},
     "output_type": "execute_result"
    }
   ],
   "source": [
    "df"
   ]
  },
  {
   "cell_type": "code",
   "execution_count": 14,
   "metadata": {
    "id": "VxOfxW18uPcu"
   },
   "outputs": [],
   "source": [
    "df['symptoms']=df['symptoms'].apply(lambda x:[i.replace(\" \",\"\") for i in x])"
   ]
  },
  {
   "cell_type": "code",
   "execution_count": 15,
   "metadata": {
    "colab": {
     "base_uri": "https://localhost:8080/",
     "height": 300
    },
    "id": "aUH8Svsevw8R",
    "outputId": "99520270-39d7-486a-915a-3e7ac9070ef3"
   },
   "outputs": [
    {
     "data": {
      "text/html": [
       "<div>\n",
       "<style scoped>\n",
       "    .dataframe tbody tr th:only-of-type {\n",
       "        vertical-align: middle;\n",
       "    }\n",
       "\n",
       "    .dataframe tbody tr th {\n",
       "        vertical-align: top;\n",
       "    }\n",
       "\n",
       "    .dataframe thead th {\n",
       "        text-align: right;\n",
       "    }\n",
       "</style>\n",
       "<table border=\"1\" class=\"dataframe\">\n",
       "  <thead>\n",
       "    <tr style=\"text-align: right;\">\n",
       "      <th></th>\n",
       "      <th>symptoms</th>\n",
       "      <th>Disease</th>\n",
       "    </tr>\n",
       "  </thead>\n",
       "  <tbody>\n",
       "    <tr>\n",
       "      <th>0</th>\n",
       "      <td>[Free-floating, anxiety, ,, nervousness, ,, tr...</td>\n",
       "      <td>Generalised Anxiety Disorder</td>\n",
       "    </tr>\n",
       "    <tr>\n",
       "      <th>1</th>\n",
       "      <td>[Sudden, onset, of, palpitations, ,, chest, pa...</td>\n",
       "      <td>Panic Disorder</td>\n",
       "    </tr>\n",
       "    <tr>\n",
       "      <th>2</th>\n",
       "      <td>[Exactly, is, invoked, by, certain, well-defin...</td>\n",
       "      <td>Phobic Disorder</td>\n",
       "    </tr>\n",
       "    <tr>\n",
       "      <th>3</th>\n",
       "      <td>[Fear, of, open, spaces, ,, crowds, and, close...</td>\n",
       "      <td>Agoraphobia</td>\n",
       "    </tr>\n",
       "    <tr>\n",
       "      <th>4</th>\n",
       "      <td>[A, fear, of, scrutiny, by, other, people, in,...</td>\n",
       "      <td>Social Phobia</td>\n",
       "    </tr>\n",
       "    <tr>\n",
       "      <th>5</th>\n",
       "      <td>[Fear, of, highly, specific, situations, such,...</td>\n",
       "      <td>Simple phobia</td>\n",
       "    </tr>\n",
       "    <tr>\n",
       "      <th>6</th>\n",
       "      <td>[Absurd, ,, anxiety, provoking, ,, irresistibl...</td>\n",
       "      <td>obsessive compulsive Disorder</td>\n",
       "    </tr>\n",
       "    <tr>\n",
       "      <th>7</th>\n",
       "      <td>[Depressed/low, mood, ,, loss, of, interest, a...</td>\n",
       "      <td>Depressive Disorder</td>\n",
       "    </tr>\n",
       "  </tbody>\n",
       "</table>\n",
       "</div>"
      ],
      "text/plain": [
       "                                            symptoms  \\\n",
       "0  [Free-floating, anxiety, ,, nervousness, ,, tr...   \n",
       "1  [Sudden, onset, of, palpitations, ,, chest, pa...   \n",
       "2  [Exactly, is, invoked, by, certain, well-defin...   \n",
       "3  [Fear, of, open, spaces, ,, crowds, and, close...   \n",
       "4  [A, fear, of, scrutiny, by, other, people, in,...   \n",
       "5  [Fear, of, highly, specific, situations, such,...   \n",
       "6  [Absurd, ,, anxiety, provoking, ,, irresistibl...   \n",
       "7  [Depressed/low, mood, ,, loss, of, interest, a...   \n",
       "\n",
       "                         Disease  \n",
       "0   Generalised Anxiety Disorder  \n",
       "1                 Panic Disorder  \n",
       "2                Phobic Disorder  \n",
       "3                    Agoraphobia  \n",
       "4                  Social Phobia  \n",
       "5                  Simple phobia  \n",
       "6  obsessive compulsive Disorder  \n",
       "7            Depressive Disorder  "
      ]
     },
     "execution_count": 15,
     "metadata": {},
     "output_type": "execute_result"
    }
   ],
   "source": [
    "df"
   ]
  },
  {
   "cell_type": "code",
   "execution_count": 16,
   "metadata": {
    "id": "l9YBt1VQ14gO"
   },
   "outputs": [],
   "source": [
    "def stop(text):\n",
    "  return [word for word in text if not word in stopwords.words()]"
   ]
  },
  {
   "cell_type": "code",
   "execution_count": 17,
   "metadata": {
    "colab": {
     "base_uri": "https://localhost:8080/"
    },
    "id": "S1CyL11-14-l",
    "outputId": "f95c083f-9fc4-4bba-8bd6-8f501e3e4cf6"
   },
   "outputs": [
    {
     "name": "stderr",
     "output_type": "stream",
     "text": [
      "[nltk_data] Downloading package stopwords to C:\\Users\\Tanishq\n",
      "[nltk_data]     Rawat\\AppData\\Roaming\\nltk_data...\n",
      "[nltk_data]   Package stopwords is already up-to-date!\n"
     ]
    }
   ],
   "source": [
    "import nltk\n",
    "nltk.download('stopwords')\n",
    "df['symptoms']=df['symptoms'].apply(stop)"
   ]
  },
  {
   "cell_type": "code",
   "execution_count": 18,
   "metadata": {
    "colab": {
     "base_uri": "https://localhost:8080/",
     "height": 300
    },
    "id": "4-yOkG-x2g00",
    "outputId": "44f69f9b-0fd0-4063-b978-41a7b617faa1"
   },
   "outputs": [
    {
     "data": {
      "text/html": [
       "<div>\n",
       "<style scoped>\n",
       "    .dataframe tbody tr th:only-of-type {\n",
       "        vertical-align: middle;\n",
       "    }\n",
       "\n",
       "    .dataframe tbody tr th {\n",
       "        vertical-align: top;\n",
       "    }\n",
       "\n",
       "    .dataframe thead th {\n",
       "        text-align: right;\n",
       "    }\n",
       "</style>\n",
       "<table border=\"1\" class=\"dataframe\">\n",
       "  <thead>\n",
       "    <tr style=\"text-align: right;\">\n",
       "      <th></th>\n",
       "      <th>symptoms</th>\n",
       "      <th>Disease</th>\n",
       "    </tr>\n",
       "  </thead>\n",
       "  <tbody>\n",
       "    <tr>\n",
       "      <th>0</th>\n",
       "      <td>[Free-floating, anxiety, ,, nervousness, ,, tr...</td>\n",
       "      <td>Generalised Anxiety Disorder</td>\n",
       "    </tr>\n",
       "    <tr>\n",
       "      <th>1</th>\n",
       "      <td>[Sudden, onset, palpitations, ,, chest, pain, ...</td>\n",
       "      <td>Panic Disorder</td>\n",
       "    </tr>\n",
       "    <tr>\n",
       "      <th>2</th>\n",
       "      <td>[Exactly, invoked, certain, well-defined, situ...</td>\n",
       "      <td>Phobic Disorder</td>\n",
       "    </tr>\n",
       "    <tr>\n",
       "      <th>3</th>\n",
       "      <td>[Fear, open, spaces, ,, crowds, close, spaces,...</td>\n",
       "      <td>Agoraphobia</td>\n",
       "    </tr>\n",
       "    <tr>\n",
       "      <th>4</th>\n",
       "      <td>[A, fear, scrutiny, people, comparatively, sma...</td>\n",
       "      <td>Social Phobia</td>\n",
       "    </tr>\n",
       "    <tr>\n",
       "      <th>5</th>\n",
       "      <td>[Fear, highly, specific, situations, proximity...</td>\n",
       "      <td>Simple phobia</td>\n",
       "    </tr>\n",
       "    <tr>\n",
       "      <th>6</th>\n",
       "      <td>[Absurd, ,, anxiety, provoking, ,, irresistibl...</td>\n",
       "      <td>obsessive compulsive Disorder</td>\n",
       "    </tr>\n",
       "    <tr>\n",
       "      <th>7</th>\n",
       "      <td>[Depressed/low, mood, ,, loss, interest, enjoy...</td>\n",
       "      <td>Depressive Disorder</td>\n",
       "    </tr>\n",
       "  </tbody>\n",
       "</table>\n",
       "</div>"
      ],
      "text/plain": [
       "                                            symptoms  \\\n",
       "0  [Free-floating, anxiety, ,, nervousness, ,, tr...   \n",
       "1  [Sudden, onset, palpitations, ,, chest, pain, ...   \n",
       "2  [Exactly, invoked, certain, well-defined, situ...   \n",
       "3  [Fear, open, spaces, ,, crowds, close, spaces,...   \n",
       "4  [A, fear, scrutiny, people, comparatively, sma...   \n",
       "5  [Fear, highly, specific, situations, proximity...   \n",
       "6  [Absurd, ,, anxiety, provoking, ,, irresistibl...   \n",
       "7  [Depressed/low, mood, ,, loss, interest, enjoy...   \n",
       "\n",
       "                         Disease  \n",
       "0   Generalised Anxiety Disorder  \n",
       "1                 Panic Disorder  \n",
       "2                Phobic Disorder  \n",
       "3                    Agoraphobia  \n",
       "4                  Social Phobia  \n",
       "5                  Simple phobia  \n",
       "6  obsessive compulsive Disorder  \n",
       "7            Depressive Disorder  "
      ]
     },
     "execution_count": 18,
     "metadata": {},
     "output_type": "execute_result"
    }
   ],
   "source": [
    "df"
   ]
  },
  {
   "cell_type": "code",
   "execution_count": 19,
   "metadata": {
    "colab": {
     "base_uri": "https://localhost:8080/"
    },
    "id": "gpVnxZFo24_K",
    "outputId": "3233001c-7075-4f97-be82-948aaf52e7f2"
   },
   "outputs": [
    {
     "name": "stderr",
     "output_type": "stream",
     "text": [
      "[nltk_data] Downloading package wordnet to C:\\Users\\Tanishq\n",
      "[nltk_data]     Rawat\\AppData\\Roaming\\nltk_data...\n",
      "[nltk_data]   Package wordnet is already up-to-date!\n",
      "[nltk_data] Downloading package omw-1.4 to C:\\Users\\Tanishq\n",
      "[nltk_data]     Rawat\\AppData\\Roaming\\nltk_data...\n",
      "[nltk_data]   Package omw-1.4 is already up-to-date!\n"
     ]
    },
    {
     "data": {
      "text/plain": [
       "True"
      ]
     },
     "execution_count": 19,
     "metadata": {},
     "output_type": "execute_result"
    }
   ],
   "source": [
    "from nltk.stem import WordNetLemmatizer\n",
    "lemmatizer = WordNetLemmatizer()\n",
    "nltk.download('wordnet')\n",
    "nltk.download('omw-1.4')"
   ]
  },
  {
   "cell_type": "code",
   "execution_count": 20,
   "metadata": {
    "id": "NkFoUmAG25H9"
   },
   "outputs": [],
   "source": [
    "def lem(text):\n",
    "  L=[]\n",
    "  for i in text:\n",
    "    L.append(lemmatizer.lemmatize(i))\n",
    "  return L"
   ]
  },
  {
   "cell_type": "code",
   "execution_count": 21,
   "metadata": {
    "id": "U-wWSh4g25Lf"
   },
   "outputs": [],
   "source": [
    "df['symptoms']=df['symptoms'].apply(lem)"
   ]
  },
  {
   "cell_type": "code",
   "execution_count": 22,
   "metadata": {
    "colab": {
     "base_uri": "https://localhost:8080/",
     "height": 300
    },
    "id": "dFKA9Tfc2_As",
    "outputId": "4ff21598-6777-4830-b26b-8c4f12ada033"
   },
   "outputs": [
    {
     "data": {
      "text/html": [
       "<div>\n",
       "<style scoped>\n",
       "    .dataframe tbody tr th:only-of-type {\n",
       "        vertical-align: middle;\n",
       "    }\n",
       "\n",
       "    .dataframe tbody tr th {\n",
       "        vertical-align: top;\n",
       "    }\n",
       "\n",
       "    .dataframe thead th {\n",
       "        text-align: right;\n",
       "    }\n",
       "</style>\n",
       "<table border=\"1\" class=\"dataframe\">\n",
       "  <thead>\n",
       "    <tr style=\"text-align: right;\">\n",
       "      <th></th>\n",
       "      <th>symptoms</th>\n",
       "      <th>Disease</th>\n",
       "    </tr>\n",
       "  </thead>\n",
       "  <tbody>\n",
       "    <tr>\n",
       "      <th>0</th>\n",
       "      <td>[Free-floating, anxiety, ,, nervousness, ,, tr...</td>\n",
       "      <td>Generalised Anxiety Disorder</td>\n",
       "    </tr>\n",
       "    <tr>\n",
       "      <th>1</th>\n",
       "      <td>[Sudden, onset, palpitation, ,, chest, pain, ,...</td>\n",
       "      <td>Panic Disorder</td>\n",
       "    </tr>\n",
       "    <tr>\n",
       "      <th>2</th>\n",
       "      <td>[Exactly, invoked, certain, well-defined, situ...</td>\n",
       "      <td>Phobic Disorder</td>\n",
       "    </tr>\n",
       "    <tr>\n",
       "      <th>3</th>\n",
       "      <td>[Fear, open, space, ,, crowd, close, space, ,,...</td>\n",
       "      <td>Agoraphobia</td>\n",
       "    </tr>\n",
       "    <tr>\n",
       "      <th>4</th>\n",
       "      <td>[A, fear, scrutiny, people, comparatively, sma...</td>\n",
       "      <td>Social Phobia</td>\n",
       "    </tr>\n",
       "    <tr>\n",
       "      <th>5</th>\n",
       "      <td>[Fear, highly, specific, situation, proximity,...</td>\n",
       "      <td>Simple phobia</td>\n",
       "    </tr>\n",
       "    <tr>\n",
       "      <th>6</th>\n",
       "      <td>[Absurd, ,, anxiety, provoking, ,, irresistibl...</td>\n",
       "      <td>obsessive compulsive Disorder</td>\n",
       "    </tr>\n",
       "    <tr>\n",
       "      <th>7</th>\n",
       "      <td>[Depressed/low, mood, ,, loss, interest, enjoy...</td>\n",
       "      <td>Depressive Disorder</td>\n",
       "    </tr>\n",
       "  </tbody>\n",
       "</table>\n",
       "</div>"
      ],
      "text/plain": [
       "                                            symptoms  \\\n",
       "0  [Free-floating, anxiety, ,, nervousness, ,, tr...   \n",
       "1  [Sudden, onset, palpitation, ,, chest, pain, ,...   \n",
       "2  [Exactly, invoked, certain, well-defined, situ...   \n",
       "3  [Fear, open, space, ,, crowd, close, space, ,,...   \n",
       "4  [A, fear, scrutiny, people, comparatively, sma...   \n",
       "5  [Fear, highly, specific, situation, proximity,...   \n",
       "6  [Absurd, ,, anxiety, provoking, ,, irresistibl...   \n",
       "7  [Depressed/low, mood, ,, loss, interest, enjoy...   \n",
       "\n",
       "                         Disease  \n",
       "0   Generalised Anxiety Disorder  \n",
       "1                 Panic Disorder  \n",
       "2                Phobic Disorder  \n",
       "3                    Agoraphobia  \n",
       "4                  Social Phobia  \n",
       "5                  Simple phobia  \n",
       "6  obsessive compulsive Disorder  \n",
       "7            Depressive Disorder  "
      ]
     },
     "execution_count": 22,
     "metadata": {},
     "output_type": "execute_result"
    }
   ],
   "source": [
    "df"
   ]
  },
  {
   "cell_type": "code",
   "execution_count": 23,
   "metadata": {
    "id": "8mXkOVbXvw-k"
   },
   "outputs": [],
   "source": [
    "from nltk.stem.porter import PorterStemmer\n",
    "ps=PorterStemmer()"
   ]
  },
  {
   "cell_type": "code",
   "execution_count": 24,
   "metadata": {
    "id": "Ab198nKqvxBZ"
   },
   "outputs": [],
   "source": [
    "def stem(text):\n",
    "  y=[]\n",
    "  for i in text:\n",
    "    y.append(ps.stem(i))\n",
    "  return y"
   ]
  },
  {
   "cell_type": "code",
   "execution_count": 25,
   "metadata": {
    "id": "xYhtMK-DDKOI"
   },
   "outputs": [],
   "source": [
    "def j(text):\n",
    "  return \" \".join(text)"
   ]
  },
  {
   "cell_type": "code",
   "execution_count": 26,
   "metadata": {
    "id": "DjH2nf7bwMr6"
   },
   "outputs": [],
   "source": [
    "df['symptoms']=df['symptoms'].apply(stem)"
   ]
  },
  {
   "cell_type": "code",
   "execution_count": 27,
   "metadata": {
    "colab": {
     "base_uri": "https://localhost:8080/",
     "height": 300
    },
    "id": "P2CWgHDPDrT6",
    "outputId": "af6feac4-da73-4b1e-dcf1-ff68ed8c4030"
   },
   "outputs": [
    {
     "data": {
      "text/html": [
       "<div>\n",
       "<style scoped>\n",
       "    .dataframe tbody tr th:only-of-type {\n",
       "        vertical-align: middle;\n",
       "    }\n",
       "\n",
       "    .dataframe tbody tr th {\n",
       "        vertical-align: top;\n",
       "    }\n",
       "\n",
       "    .dataframe thead th {\n",
       "        text-align: right;\n",
       "    }\n",
       "</style>\n",
       "<table border=\"1\" class=\"dataframe\">\n",
       "  <thead>\n",
       "    <tr style=\"text-align: right;\">\n",
       "      <th></th>\n",
       "      <th>symptoms</th>\n",
       "      <th>Disease</th>\n",
       "    </tr>\n",
       "  </thead>\n",
       "  <tbody>\n",
       "    <tr>\n",
       "      <th>0</th>\n",
       "      <td>[free-float, anxieti, ,, nervous, ,, trembl, ,...</td>\n",
       "      <td>Generalised Anxiety Disorder</td>\n",
       "    </tr>\n",
       "    <tr>\n",
       "      <th>1</th>\n",
       "      <td>[sudden, onset, palpit, ,, chest, pain, ,, cho...</td>\n",
       "      <td>Panic Disorder</td>\n",
       "    </tr>\n",
       "    <tr>\n",
       "      <th>2</th>\n",
       "      <td>[exactli, invok, certain, well-defin, situat, ...</td>\n",
       "      <td>Phobic Disorder</td>\n",
       "    </tr>\n",
       "    <tr>\n",
       "      <th>3</th>\n",
       "      <td>[fear, open, space, ,, crowd, close, space, ,,...</td>\n",
       "      <td>Agoraphobia</td>\n",
       "    </tr>\n",
       "    <tr>\n",
       "      <th>4</th>\n",
       "      <td>[A, fear, scrutini, peopl, compar, small, grou...</td>\n",
       "      <td>Social Phobia</td>\n",
       "    </tr>\n",
       "    <tr>\n",
       "      <th>5</th>\n",
       "      <td>[fear, highli, specif, situat, proxim, particu...</td>\n",
       "      <td>Simple phobia</td>\n",
       "    </tr>\n",
       "    <tr>\n",
       "      <th>6</th>\n",
       "      <td>[absurd, ,, anxieti, provok, ,, irresist, thou...</td>\n",
       "      <td>obsessive compulsive Disorder</td>\n",
       "    </tr>\n",
       "    <tr>\n",
       "      <th>7</th>\n",
       "      <td>[depressed/low, mood, ,, loss, interest, enjoy...</td>\n",
       "      <td>Depressive Disorder</td>\n",
       "    </tr>\n",
       "  </tbody>\n",
       "</table>\n",
       "</div>"
      ],
      "text/plain": [
       "                                            symptoms  \\\n",
       "0  [free-float, anxieti, ,, nervous, ,, trembl, ,...   \n",
       "1  [sudden, onset, palpit, ,, chest, pain, ,, cho...   \n",
       "2  [exactli, invok, certain, well-defin, situat, ...   \n",
       "3  [fear, open, space, ,, crowd, close, space, ,,...   \n",
       "4  [A, fear, scrutini, peopl, compar, small, grou...   \n",
       "5  [fear, highli, specif, situat, proxim, particu...   \n",
       "6  [absurd, ,, anxieti, provok, ,, irresist, thou...   \n",
       "7  [depressed/low, mood, ,, loss, interest, enjoy...   \n",
       "\n",
       "                         Disease  \n",
       "0   Generalised Anxiety Disorder  \n",
       "1                 Panic Disorder  \n",
       "2                Phobic Disorder  \n",
       "3                    Agoraphobia  \n",
       "4                  Social Phobia  \n",
       "5                  Simple phobia  \n",
       "6  obsessive compulsive Disorder  \n",
       "7            Depressive Disorder  "
      ]
     },
     "execution_count": 27,
     "metadata": {},
     "output_type": "execute_result"
    }
   ],
   "source": [
    "df"
   ]
  },
  {
   "cell_type": "code",
   "execution_count": 28,
   "metadata": {
    "id": "QDM-KQXIDAwj"
   },
   "outputs": [],
   "source": [
    "df['symptoms']=df['symptoms'].apply(j)"
   ]
  },
  {
   "cell_type": "code",
   "execution_count": 29,
   "metadata": {
    "colab": {
     "base_uri": "https://localhost:8080/",
     "height": 300
    },
    "id": "q4-lhFLXwT-q",
    "outputId": "fb746861-574b-445c-e76c-1fc8f9b8965d"
   },
   "outputs": [
    {
     "data": {
      "text/html": [
       "<div>\n",
       "<style scoped>\n",
       "    .dataframe tbody tr th:only-of-type {\n",
       "        vertical-align: middle;\n",
       "    }\n",
       "\n",
       "    .dataframe tbody tr th {\n",
       "        vertical-align: top;\n",
       "    }\n",
       "\n",
       "    .dataframe thead th {\n",
       "        text-align: right;\n",
       "    }\n",
       "</style>\n",
       "<table border=\"1\" class=\"dataframe\">\n",
       "  <thead>\n",
       "    <tr style=\"text-align: right;\">\n",
       "      <th></th>\n",
       "      <th>symptoms</th>\n",
       "      <th>Disease</th>\n",
       "    </tr>\n",
       "  </thead>\n",
       "  <tbody>\n",
       "    <tr>\n",
       "      <th>0</th>\n",
       "      <td>free-float anxieti , nervous , trembl , muscul...</td>\n",
       "      <td>Generalised Anxiety Disorder</td>\n",
       "    </tr>\n",
       "    <tr>\n",
       "      <th>1</th>\n",
       "      <td>sudden onset palpit , chest pain , choke sensa...</td>\n",
       "      <td>Panic Disorder</td>\n",
       "    </tr>\n",
       "    <tr>\n",
       "      <th>2</th>\n",
       "      <td>exactli invok certain well-defin situat object...</td>\n",
       "      <td>Phobic Disorder</td>\n",
       "    </tr>\n",
       "    <tr>\n",
       "      <th>3</th>\n",
       "      <td>fear open space , crowd close space , fear lea...</td>\n",
       "      <td>Agoraphobia</td>\n",
       "    </tr>\n",
       "    <tr>\n",
       "      <th>4</th>\n",
       "      <td>A fear scrutini peopl compar small group oppos...</td>\n",
       "      <td>Social Phobia</td>\n",
       "    </tr>\n",
       "    <tr>\n",
       "      <th>5</th>\n",
       "      <td>fear highli specif situat proxim particular an...</td>\n",
       "      <td>Simple phobia</td>\n",
       "    </tr>\n",
       "    <tr>\n",
       "      <th>6</th>\n",
       "      <td>absurd , anxieti provok , irresist thought , i...</td>\n",
       "      <td>obsessive compulsive Disorder</td>\n",
       "    </tr>\n",
       "    <tr>\n",
       "      <th>7</th>\n",
       "      <td>depressed/low mood , loss interest enjoy , red...</td>\n",
       "      <td>Depressive Disorder</td>\n",
       "    </tr>\n",
       "  </tbody>\n",
       "</table>\n",
       "</div>"
      ],
      "text/plain": [
       "                                            symptoms  \\\n",
       "0  free-float anxieti , nervous , trembl , muscul...   \n",
       "1  sudden onset palpit , chest pain , choke sensa...   \n",
       "2  exactli invok certain well-defin situat object...   \n",
       "3  fear open space , crowd close space , fear lea...   \n",
       "4  A fear scrutini peopl compar small group oppos...   \n",
       "5  fear highli specif situat proxim particular an...   \n",
       "6  absurd , anxieti provok , irresist thought , i...   \n",
       "7  depressed/low mood , loss interest enjoy , red...   \n",
       "\n",
       "                         Disease  \n",
       "0   Generalised Anxiety Disorder  \n",
       "1                 Panic Disorder  \n",
       "2                Phobic Disorder  \n",
       "3                    Agoraphobia  \n",
       "4                  Social Phobia  \n",
       "5                  Simple phobia  \n",
       "6  obsessive compulsive Disorder  \n",
       "7            Depressive Disorder  "
      ]
     },
     "execution_count": 29,
     "metadata": {},
     "output_type": "execute_result"
    }
   ],
   "source": [
    "df"
   ]
  },
  {
   "cell_type": "code",
   "execution_count": 30,
   "metadata": {
    "id": "c4RfKXr9LBmq"
   },
   "outputs": [],
   "source": [
    "from sklearn import preprocessing\n",
    "le = preprocessing.LabelEncoder()\n",
    "df['Disease']=le.fit_transform(df['Disease'])"
   ]
  },
  {
   "cell_type": "code",
   "execution_count": 31,
   "metadata": {
    "id": "Dh-U8WyyIPAj"
   },
   "outputs": [],
   "source": [
    "import numpy as np\n",
    "from sklearn.metrics.pairwise import cosine_similarity,cosine_distances"
   ]
  },
  {
   "cell_type": "code",
   "execution_count": 32,
   "metadata": {
    "colab": {
     "base_uri": "https://localhost:8080/",
     "height": 300
    },
    "id": "_vujvTgvKEws",
    "outputId": "4342a9d9-9e72-44e9-9880-f5309ffb85f0"
   },
   "outputs": [
    {
     "data": {
      "text/html": [
       "<div>\n",
       "<style scoped>\n",
       "    .dataframe tbody tr th:only-of-type {\n",
       "        vertical-align: middle;\n",
       "    }\n",
       "\n",
       "    .dataframe tbody tr th {\n",
       "        vertical-align: top;\n",
       "    }\n",
       "\n",
       "    .dataframe thead th {\n",
       "        text-align: right;\n",
       "    }\n",
       "</style>\n",
       "<table border=\"1\" class=\"dataframe\">\n",
       "  <thead>\n",
       "    <tr style=\"text-align: right;\">\n",
       "      <th></th>\n",
       "      <th>symptoms</th>\n",
       "      <th>Disease</th>\n",
       "    </tr>\n",
       "  </thead>\n",
       "  <tbody>\n",
       "    <tr>\n",
       "      <th>0</th>\n",
       "      <td>free-float anxieti , nervous , trembl , muscul...</td>\n",
       "      <td>2</td>\n",
       "    </tr>\n",
       "    <tr>\n",
       "      <th>1</th>\n",
       "      <td>sudden onset palpit , chest pain , choke sensa...</td>\n",
       "      <td>3</td>\n",
       "    </tr>\n",
       "    <tr>\n",
       "      <th>2</th>\n",
       "      <td>exactli invok certain well-defin situat object...</td>\n",
       "      <td>4</td>\n",
       "    </tr>\n",
       "    <tr>\n",
       "      <th>3</th>\n",
       "      <td>fear open space , crowd close space , fear lea...</td>\n",
       "      <td>0</td>\n",
       "    </tr>\n",
       "    <tr>\n",
       "      <th>4</th>\n",
       "      <td>A fear scrutini peopl compar small group oppos...</td>\n",
       "      <td>6</td>\n",
       "    </tr>\n",
       "    <tr>\n",
       "      <th>5</th>\n",
       "      <td>fear highli specif situat proxim particular an...</td>\n",
       "      <td>5</td>\n",
       "    </tr>\n",
       "    <tr>\n",
       "      <th>6</th>\n",
       "      <td>absurd , anxieti provok , irresist thought , i...</td>\n",
       "      <td>7</td>\n",
       "    </tr>\n",
       "    <tr>\n",
       "      <th>7</th>\n",
       "      <td>depressed/low mood , loss interest enjoy , red...</td>\n",
       "      <td>1</td>\n",
       "    </tr>\n",
       "  </tbody>\n",
       "</table>\n",
       "</div>"
      ],
      "text/plain": [
       "                                            symptoms  Disease\n",
       "0  free-float anxieti , nervous , trembl , muscul...        2\n",
       "1  sudden onset palpit , chest pain , choke sensa...        3\n",
       "2  exactli invok certain well-defin situat object...        4\n",
       "3  fear open space , crowd close space , fear lea...        0\n",
       "4  A fear scrutini peopl compar small group oppos...        6\n",
       "5  fear highli specif situat proxim particular an...        5\n",
       "6  absurd , anxieti provok , irresist thought , i...        7\n",
       "7  depressed/low mood , loss interest enjoy , red...        1"
      ]
     },
     "execution_count": 32,
     "metadata": {},
     "output_type": "execute_result"
    }
   ],
   "source": [
    "df"
   ]
  },
  {
   "cell_type": "code",
   "execution_count": 33,
   "metadata": {},
   "outputs": [],
   "source": [
    "import pickle"
   ]
  },
  {
   "cell_type": "code",
   "execution_count": 35,
   "metadata": {},
   "outputs": [],
   "source": [
    "pickle.dump(df.to_dict(),open('disease_dict.pkl','wb'))"
   ]
  },
  {
   "cell_type": "code",
   "execution_count": null,
   "metadata": {},
   "outputs": [],
   "source": []
  },
  {
   "cell_type": "code",
   "execution_count": 32,
   "metadata": {
    "id": "icdZO-1T3aXL"
   },
   "outputs": [],
   "source": [
    "from sklearn.feature_extraction.text import CountVectorizer\n",
    "cv=CountVectorizer(max_features=5000)"
   ]
  },
  {
   "cell_type": "code",
   "execution_count": 33,
   "metadata": {
    "id": "2wGlLybX-JDI"
   },
   "outputs": [],
   "source": [
    "import numpy as np\n",
    "from sklearn.metrics.pairwise import cosine_similarity,cosine_distances\n",
    "import warnings\n",
    "warnings.filterwarnings(\"ignore\", category=np.VisibleDeprecationWarning) "
   ]
  },
  {
   "cell_type": "code",
   "execution_count": 34,
   "metadata": {
    "id": "3qD9IyHAPlcd"
   },
   "outputs": [],
   "source": [
    "name_dis=['Generalised Anxiety Disorder','Panic Disorder','Phobic Disorder','Agoraphobia','Social Phobia','Simple phobia','obsessive compulsive Disorder','Depressive Disorder']"
   ]
  },
  {
   "cell_type": "code",
   "execution_count": 35,
   "metadata": {
    "id": "vzU6AAzGN4XA"
   },
   "outputs": [],
   "source": [
    "def predict(sym):\n",
    "  sym=convert(sym)\n",
    "  sym=stop(sym)\n",
    "  sym=lem(sym)\n",
    "  sym=stem(sym)\n",
    "  print(\"the keywords are:\",sym)\n",
    "  df.loc[8] = [sym,'new_symptoms']\n",
    "  df['symptoms'][8]=\" \".join(df['symptoms'][8])\n",
    "  vectors=cv.fit_transform(df['symptoms'])\n",
    "  similarity=cosine_similarity(vectors)\n",
    "  list1 = similarity[8].tolist()\n",
    "  del(list1[-1])\n",
    "  index=list1.index(max(list1))\n",
    "  print(\"You might have:\",name_dis[index])\n"
   ]
  },
  {
   "cell_type": "code",
   "execution_count": 36,
   "metadata": {
    "colab": {
     "base_uri": "https://localhost:8080/"
    },
    "id": "S5IOPkaBQflb",
    "outputId": "5ea0512a-7641-4eca-e5b3-39da08fb7aef"
   },
   "outputs": [
    {
     "name": "stdout",
     "output_type": "stream",
     "text": [
      "enter your symptom fever\n"
     ]
    }
   ],
   "source": [
    "symptom=input('enter your symptom ')\n"
   ]
  },
  {
   "cell_type": "code",
   "execution_count": 37,
   "metadata": {
    "colab": {
     "base_uri": "https://localhost:8080/"
    },
    "id": "pl-jh1p_O6KJ",
    "outputId": "2e69e6ec-779e-417b-ee06-245941dcd80d"
   },
   "outputs": [
    {
     "name": "stdout",
     "output_type": "stream",
     "text": [
      "the keywords are: ['fever']\n",
      "You might have: Generalised Anxiety Disorder\n"
     ]
    }
   ],
   "source": [
    "predict(symptom)"
   ]
  },
  {
   "cell_type": "code",
   "execution_count": null,
   "metadata": {},
   "outputs": [],
   "source": []
  }
 ],
 "metadata": {
  "colab": {
   "collapsed_sections": [],
   "name": "disease_predict.ipynb",
   "provenance": []
  },
  "kernelspec": {
   "display_name": "Python 3",
   "language": "python",
   "name": "python3"
  },
  "language_info": {
   "codemirror_mode": {
    "name": "ipython",
    "version": 3
   },
   "file_extension": ".py",
   "mimetype": "text/x-python",
   "name": "python",
   "nbconvert_exporter": "python",
   "pygments_lexer": "ipython3",
   "version": "3.8.5"
  }
 },
 "nbformat": 4,
 "nbformat_minor": 1
}
